{
 "cells": [
  {
   "cell_type": "markdown",
   "id": "d7057271-09a6-4f05-8e5c-4f79d56ea2c6",
   "metadata": {
    "tags": []
   },
   "source": [
    "<img src=\"plane.jpg\">"
   ]
  },
  {
   "cell_type": "markdown",
   "id": "dce44ac4-c234-4c26-a46c-66864a5e4086",
   "metadata": {
    "tags": []
   },
   "source": [
    "# **A comparative analysis of plane boarding strategy**\n",
    "\n",
    "by Erica Brisigotti (Università degli Studi dell'Insubria - ebrisigotti@studenti.uninsubria.it)"
   ]
  },
  {
   "cell_type": "code",
   "execution_count": 1,
   "id": "13466274-a784-42af-b851-0e183f54852f",
   "metadata": {},
   "outputs": [],
   "source": [
    "import numpy as np\n",
    "from numpy import random\n",
    "import matplotlib.pyplot as plt\n",
    "from scipy.optimize import curve_fit"
   ]
  },
  {
   "cell_type": "markdown",
   "id": "dd7d39ad-5c02-4417-8659-69bc961522b6",
   "metadata": {
    "tags": []
   },
   "source": [
    "# **Abstract**"
   ]
  },
  {
   "cell_type": "markdown",
   "id": "3411fd4e-0cd6-4ae9-a1ff-70eb5bb8134e",
   "metadata": {
    "jp-MarkdownHeadingCollapsed": true,
    "tags": []
   },
   "source": [
    "Airlines all around the world implement boarding strategies that regulate the flow of passengers between the terminal gate and the airplane. Many airports are equipped with jetways that allow passengers to board directly from terminal to aircraft to simplify the process and increase passenger comfort.\n",
    "\n",
    "Different strategies were developed to make the boarding process via jetway more efficient. Despite their differences, they all aim to shorten the total boarding time and, consequently, Turn-Around Time: TAT is the time required to unload an airplane after it arrives at the gate and to prepare it for departure again and is strictly related to profitability. In fact, when the plane is stationary on the ground it isn’t making any revenue but rather adding up other costs.\n",
    "\n",
    "Despite the efforts to shorten TAT as much as possible, there are obstacles to the smooth running of boarding strategies. Interference can occur when passengers are blocking each other from moving on or taking a seat. Jamming takes on 2 main forms, full-stops and seat shuffling:\n",
    "- **full-stops** happen when a passenger stops to load their bag and a queue of people builds up in the aisle. The flow of passengers resumes only when the first passenger is seated, only to stop again when another passenger is in the way.\n",
    "- **seat shuffling** is one of the bulkiest yet avoidable additions to the time that each passenger needs to occupy the respective seat: it occurs when passengers in middle or window seats can't sit down right away because already seated people are in their way. The latter need to stand up and temporarily queue up in the aisle to solve the situation.\n",
    "\n",
    "The goal of the following Jupyter notebook is to identify the optimal plane boarding strategy that airlines could implement to make the plane boarding process as efficient as possible, since *boarding a plane always seems to take longer than it should* $^{(1)}$."
   ]
  },
  {
   "cell_type": "markdown",
   "id": "055257f7-cb18-4dd4-8767-3790c7cdc7b0",
   "metadata": {
    "tags": []
   },
   "source": [
    "# **Introduction**\n",
    "In the following section I'm going to analyze the elements that influence the boarding time of the common type of narrow-body airliner: it consists of a plane with only one aisle, carrying from 4 to 6 passengers per row and fewer than 300 passengers: this type of plane usually has only one entry located in the front of the aircraft."
   ]
  },
  {
   "cell_type": "code",
   "execution_count": 2,
   "id": "1776cd25-a06f-4c3e-8c13-17790d0f3a65",
   "metadata": {
    "tags": []
   },
   "outputs": [
    {
     "name": "stdout",
     "output_type": "stream",
     "text": [
      "we suppose:\n",
      "- there are 30 rows of seats on the plane.\n",
      "- there are 6 seats on each row the plane.\n",
      "- on the plane there are a total of 180 seats.\n",
      "- the plane is 50.00 meters long.\n",
      "- each row of seats on the plane takes up 0.83 meters.\n"
     ]
    }
   ],
   "source": [
    "# we're going to analyze planes with only one isle\n",
    "print('we suppose:')\n",
    "# we set a number of rows within the plane\n",
    "n_rows=30\n",
    "print('- there are {:d} rows of seats on the plane.'.format(n_rows))\n",
    "# and the number of seats per row\n",
    "n_seats_per_row=6\n",
    "print('- there are {:d} seats on each row the plane.'.format(n_seats_per_row))\n",
    "# the total number of passengers is given by\n",
    "n_tot=n_rows*n_seats_per_row\n",
    "print('- on the plane there are a total of {:d} seats.'.format(n_tot))\n",
    "# we also initialize the length of the plane:\n",
    "tot_space=50 # m\n",
    "print('- the plane is {:.2f} meters long.'.format(tot_space))\n",
    "# and space taken up by each row\n",
    "space_per_row=tot_space*0.5/n_rows # m\n",
    "print('- each row of seats on the plane takes up {:.2f} meters.'.format(space_per_row))\n",
    "seats=np.zeros((n_tot,2))"
   ]
  },
  {
   "cell_type": "markdown",
   "id": "094103b4-65ef-4670-9872-3a7aa9e803eb",
   "metadata": {},
   "source": [
    "In such planes, the total boarding time for each passenger $t_{tot}$ is the sum of the following contributions:\n",
    "$$ t_{tot} = t_{walk} + t_{luggage} + t_{shuffle} $$\n",
    "- the **walking time** $t_{walk}$ is the time required for the passenger to walk from the entry of the economy section to their respective seat: walking time is directly proportional to the distance traveled (which is related to the row in which the passenger is seated since the entry is in the front). This process also has a random element to it because of the walking speed of the passenger, which varies based on multiple factors such as their age, health and weight of their carryon.\n",
    "- once the passenger has reached the desired row, **bag time** $t_{luggage}$ starts: during such time the passenger has to load their carry-on in the respective overhead storage. Fluctuations may occur because of the size of the carry-ons (their own or the ones already present in the overhead storage) and because of other distractions, such as time grabbing whatever object will be needed during the flight (e.g. laptops or books).\n",
    "- the third and last component is the aforementioned **shuffling time** $t_{shuffle}$: this process is directly proportional to the number of already seated that need to stand up (which varies from 0 to 2), but also random because the time needed for each neighbor to move around is different.\n",
    "\n",
    "Because of their random nature, each one of the aforementioned values will be randomly generated based on a Gaussian distribution: its mean value and standard deviation will be assigned based on empirical observation in the following subsections.\n"
   ]
  },
  {
   "cell_type": "markdown",
   "id": "003b211c-8f75-4b1f-a877-f373a7cdc2af",
   "metadata": {
    "tags": []
   },
   "source": [
    "## **Walking Time**"
   ]
  },
  {
   "cell_type": "markdown",
   "id": "a6e6b2b7-7522-451c-a24e-de4224d489fe",
   "metadata": {
    "tags": []
   },
   "source": [
    "Firstly, I want to estimate the time necessary for each passenger to walk from the entry of the economy section of the cabin to their respective seat.\n",
    "\n",
    "The first observation is based on the hypothesis that the plain has only one entrance, located in the front:\n",
    "the indexing of the rows also goes front to back, resulting in passengers with lower row numbers needing less time to board. The walking time $t_{walk}$ is, therefore, a function of the net number of rows traveled $d$ that the passenger is assigned:\n",
    "$$ t_{walk} =k \\cdot d $$\n",
    "- the net number of rows traveled $d$ can be easily calculated as the difference between the row that each passenger occupies and the previous full-stop point. The previous full-stop point is the lowermost row occupied by one of the passengers that got to seat during the previous full-stop. To ensure positive values of distance (and therefore time) I take the maximum value between the aforementioned difference and 0 (meaning that the respective row was already reached during the previous full-stop but the further steps weren't allowed):\n",
    "$$ d=max\\left\\{ \\left( r_i - s \\right) , 0 \\right\\} \\;\\; \\wedge \\;\\; min \\left\\{ r_j \\, : j \\text{ sat down during previous full-stop} \\right\\} $$ \n",
    "\n",
    "- the multiplicative factor $k$ between the forementioned quantities is dimensionally s/row. This factor must now take into account the difference in walking pace that may occur among passengers due to age, health and weight of their carry-on. For these reasons, the factor will be randomly extracted based on a Gaussian distribution of known mean value $\\bar{k}$ and standard deviation $\\delta k$.\n",
    "\n",
    "\n",
    "The values for $\\bar{k}$ and $\\delta k$ will be established based on the following empirical observation:\n",
    "- the space taken up by each row of seats $l$ is obtained by dividing the length of the cabin $L$ and the number of rows $n_{rows}$:\n",
    "$$l=\\frac{L}{n_{rows}}$$\n",
    "- the average velocity for a person weighted down by their luggage $^{(4)}$ is $v \\sim (4.5 \\pm 0.5) $ km/h $\\sim (1.25 \\pm$ 0.14) m/s of a passenger moving along the aisle while carrying their luggage.}\n",
    "\n",
    "By dividing these quantities (as stated by the time law of uniform rectilinear motion) I'm able to find the average time require to step from one row to the following (i.e. the average factor $k$):\n",
    "$$ \\bar{k} =\\frac{\\bar{T}}{n_{rows}}=\\frac{L}{\\bar{v} \\cdot n_{rows}}=\\frac{l}{\\bar{v}} \n",
    "\\hspace{1cm} \\Rightarrow \\hspace{1cm} \\delta k = \\left| \\frac{\\partial \\bar{k}}{\\partial \\bar{v}} \\right| \\delta v = \\frac{l}{\\bar{v}^2} \\delta t $$"
   ]
  },
  {
   "cell_type": "code",
   "execution_count": 3,
   "id": "898be349-85e0-4969-a9b1-1400a2f855a3",
   "metadata": {
    "tags": []
   },
   "outputs": [
    {
     "name": "stdout",
     "output_type": "stream",
     "text": [
      "- the average value and standard deviation for the factor k distribution are 0.67 and 0.07 seconds/row.\n"
     ]
    }
   ],
   "source": [
    "mean_velocity=4.5/3.6 # m/s\n",
    "delta_velocity=0.5/3.6 # m/s\n",
    "mean_k=space_per_row/mean_velocity # s/row\n",
    "delta_k=space_per_row*delta_velocity/mean_velocity**2 # s/row\n",
    "print('- the average value and standard deviation for the factor k distribution are {:.2f} and {:.2f} seconds/row.'.format(mean_k,delta_k))"
   ]
  },
  {
   "cell_type": "markdown",
   "id": "76a3cb5d-cd5f-415e-8730-f991adb26f7a",
   "metadata": {
    "tags": []
   },
   "source": [
    "## **Luggage Time**"
   ]
  },
  {
   "cell_type": "markdown",
   "id": "88a3a45c-749c-4b32-9b64-d58e2183a473",
   "metadata": {
    "tags": []
   },
   "source": [
    "The time needed for passengers to position their luggage in their respective overhead storage is purely random and also Gaussian distributed. Passengers can happen to have little to no luggage with them and take very little time or, on the other hand, take plenty of time struggling to fit their luggage with the other ones and pulling out the personal belongings they need during the flight. \n",
    "\n",
    "After a series of experiments and measurements $\\left\\{ x_i \\right\\}$, I was able to estimate the mean value and standard deviation for the luggage time distribution as follows:\n",
    "\n",
    "$$ \\bar{t}_{luggage}=\\frac{1}{N}\\sum_{i=1}^N x_i \\hspace{3cm} \n",
    "\\delta t_{luggage}=\\sqrt{\\frac{1}{N} \\sum_{i=1}^N (x_i-\\bar{t}_{luggage})^2}\n",
    "$$"
   ]
  },
  {
   "cell_type": "code",
   "execution_count": 4,
   "id": "dc3a9c37-02c4-4d1b-94a0-20708a4347be",
   "metadata": {
    "tags": []
   },
   "outputs": [
    {
     "name": "stdout",
     "output_type": "stream",
     "text": [
      "- the average value and standard deviation of the luggage time distribution are 8.31 and 1.74 seconds.\n"
     ]
    }
   ],
   "source": [
    "data_luggage=np.array([5.8,5.3,8.7,8.5,8.9,  6.3,7.7,9.8,11.7,9.3,  7.2,6.5,9.2,10.4,9.3]) # s\n",
    "mean_luggage=np.mean(data_luggage) # s\n",
    "delta_luggage=np.std(data_luggage) # s\n",
    "print('- the average value and standard deviation of the luggage time distribution are {:.2f} and {:.2f} seconds.'.format(mean_luggage,delta_luggage))"
   ]
  },
  {
   "cell_type": "markdown",
   "id": "492500ea-91b3-4f13-90d8-2c5b98fd2b52",
   "metadata": {
    "tags": []
   },
   "source": [
    "## **Shuffle Time**"
   ]
  },
  {
   "cell_type": "markdown",
   "id": "4f2fe186-0ab5-4a9c-bfb2-5769ad2d23d0",
   "metadata": {
    "tags": []
   },
   "source": [
    "Once the passenger has reached their row, one last step may occur: seat shuffling is needed whenever the passenger is assigned the middle or window seat and its already-seated neighbors are in its way: the latter need to stand up, temporarily occupy the aisle (to allow the newly arrived to take their seat) and sit down again. The total shuffling time depends on the number of people bothered within the process and also on their respective agility, which is random and gaussian distributed:\n",
    "$$ t_{shuffle}=\\sum_{bothered \\; people} t_{shuffle}^{person}  $$\n",
    "where the number of people bothered is less than or equal to 2, and each $t_{shuffle}^{person}$ will be extracted from the same Gaussian distribution.\n",
    "\n",
    "The mean value and standard deviation of the shuffling time distribution were computed based on a series of experiments and measurements $\\left\\{ y_i \\right\\}$:\n",
    "\n",
    "$$ \\bar{t}_{shuffle}=\\frac{1}{N}\\sum_{i=1}^N y_i \\hspace{3cm} \n",
    "\\delta t_{shuffle}=\\sqrt{\\frac{1}{N} \\sum_{i=1}^N (y_i-\\bar{t}_{shuuffle})^2}\n",
    "$$"
   ]
  },
  {
   "cell_type": "code",
   "execution_count": 5,
   "id": "695a8753-afb7-45af-9a71-758db93908f4",
   "metadata": {
    "tags": []
   },
   "outputs": [
    {
     "name": "stdout",
     "output_type": "stream",
     "text": [
      "- the average value and standard deviation of the shuffle time distribution are 6.58 and 1.77 seconds.\n"
     ]
    }
   ],
   "source": [
    "data_shuffle=np.array([5.5,6.7,4.2,3.7,5.2,  8.5,8.2,8.3,9.9,8.8,  5.1,6.6,6.7,5.0,6.3]) # s\n",
    "mean_shuffle=np.mean(data_shuffle) # s\n",
    "delta_shuffle=np.std(data_shuffle) # s\n",
    "print('- the average value and standard deviation of the shuffle time distribution are {:.2f} and {:.2f} seconds.'.format(mean_shuffle,delta_shuffle))"
   ]
  },
  {
   "cell_type": "markdown",
   "id": "e62791be-c4c4-4b05-acaf-f1da838a2165",
   "metadata": {
    "tags": []
   },
   "source": [
    "# **Implementation**"
   ]
  },
  {
   "cell_type": "markdown",
   "id": "8be44a8b-d6af-4777-8d32-72cad3693f7f",
   "metadata": {
    "tags": []
   },
   "source": [
    "As seen in the previous section, the total boarding time for each passenger is:\n",
    "$$ t_{tot} = k\\cdot d + t_{luggage} + \\sum_{bothered \\; people} t_{shuffle}^{person} $$\n",
    "where $k$, $t_{luggage}$ and each $t_{shuffle}^{neighbor}$ are random quantities that will be extracted (from the respective distribution) for each passenger. "
   ]
  },
  {
   "cell_type": "markdown",
   "id": "c2b15706-e1e6-487f-a2a8-67bd63d492bd",
   "metadata": {},
   "source": [
    "Functions will be used extensively to simplify the repetition necessary to get a statistically significant analysis: each process consists of\n",
    "1. selecting the seats\n",
    "2. isolating the boarding groups\n",
    "3. calculating the boarding time for every strategy analyzed\n",
    "\n",
    "and will be repeated $n_{reps}$ times: the results of every iteration will then be saved in an array to later be presented (in the Result section) as in the form of frequency histograms. The latter will be compared and contrasted to deduce the topics of the Discussion section."
   ]
  },
  {
   "cell_type": "code",
   "execution_count": 6,
   "id": "cf2305ab-2633-4b02-9fb7-f738e2582e7a",
   "metadata": {},
   "outputs": [],
   "source": [
    "n_reps=500\n",
    "n_methods=5\n",
    "storage=np.zeros((n_reps,n_methods))"
   ]
  },
  {
   "cell_type": "code",
   "execution_count": 7,
   "id": "8458833b-d083-4c86-a7f2-eee01f524f88",
   "metadata": {
    "tags": []
   },
   "outputs": [],
   "source": [
    "def get_seats():\n",
    "    # this function lists all the possible combinations of rows and seat within the row in ascending order\n",
    "    r=np.linspace(0,n_rows-1,n_rows,dtype=int)\n",
    "    s=np.linspace(0,n_seats_per_row-1,n_seats_per_row,dtype=int)\n",
    "    # 0 and 5 are window seats, 1 and 4 are middle seats and 2 and 3 are aisle seats\n",
    "    # I store said combinations in a 2-dimensional numpy array\n",
    "    seats=np.zeros((n_tot,2),dtype=int)\n",
    "    seats[:,0]=np.repeat(r,n_seats_per_row)\n",
    "    seats[:,1]=np.tile(s,n_rows)\n",
    "    # the particular choice of orientation of the array is based on the properties of the function I'm about to use\n",
    "    # (numpy.random.shuffle only shuffles the array along the first axis of a multi-dimensional array)\n",
    "    # that I later shuffle to simulate the random boarding order\n",
    "    return seats"
   ]
  },
  {
   "cell_type": "code",
   "execution_count": 8,
   "id": "35b0562c-4e94-483e-9920-6fef7287357b",
   "metadata": {
    "tags": []
   },
   "outputs": [],
   "source": [
    "def get_full_stop_groups(boarding_order):\n",
    "    # this function locates when the boarding queue runs into full-stops: they happen when a passenger is in the\n",
    "    # way of the one just after hiim (i.e. when the next person has a greater or equal row index). \n",
    "    # first, I initialize a counter that will identify each passenger in the (not necessarily ordered) queue\n",
    "    i=0\n",
    "    # the use of lists as an outer container for all the desired groups (which are, singularly, numpy arrays)\n",
    "    # follows from the irregular/unpredictable size of each group (which forbids the use of numpy.concatenate\n",
    "    # or numpy.vstack)\n",
    "    groups=[]\n",
    "    # until every passenger has been examined\n",
    "    while i<n_tot:\n",
    "        # I initialize an array that will contain the indexes of the people that can sit down during the same full-stop\n",
    "        temp=np.array([i])\n",
    "        # I examine the following passenger\n",
    "        j=i+1\n",
    "        # to see if such people exist: sitting down during the same full-stop is equivalent to having decreasing values of rows\n",
    "        while (j<n_tot) and (boarding_order[j,0]<boarding_order[(j-1),0]):\n",
    "            # whenever I find said people, I save their index in the array I previously initialized\n",
    "            temp=np.concatenate((temp,[j]))\n",
    "            # and increment the second index on which the internal loop is based on\n",
    "            j+=1\n",
    "        # once I find all the people in the same full-stop group, I save the array of indexes\n",
    "        groups.append(temp)\n",
    "        # and update the index to avoid looking again at the same elements\n",
    "        i=j\n",
    "    return groups"
   ]
  },
  {
   "cell_type": "code",
   "execution_count": 9,
   "id": "a7b54efe-6e59-4bb6-b669-0dfa97b7fd49",
   "metadata": {
    "tags": []
   },
   "outputs": [],
   "source": [
    "def get_boarding_time(boarding_order,groups):\n",
    "    # this function calculates the total boarding time by combining all the elements previously explained\n",
    "    # first of all, for each passenger I randomly extract\n",
    "    # - the walking factor\n",
    "    k_time=np.random.normal(mean_k,delta_k,n_tot)\n",
    "    # - the luggage time\n",
    "    luggage_time=np.random.normal(mean_luggage,delta_luggage,n_tot)\n",
    "    # - the shuffling time: in this case, the number of values that will end up being used is dependent\n",
    "    #   on whether there are people in the way of the passenger seated (and how many of them there are,\n",
    "    #   from 0 to 2)\n",
    "    potential_shuffle_time=np.random.normal(mean_shuffle,delta_shuffle,(n_tot,2))\n",
    "\n",
    "    # before looping, I initialize two matrix that will help me track :\n",
    "    # \n",
    "    # - a null matrix that will help me track which seats are progressively occupied (once the passenger will be seated,\n",
    "    #   the respective element will be set to one)\n",
    "    occupied=np.zeros((n_rows,n_seats_per_row),dtype=int)\n",
    "    # - an array to store the shuffle time, that will be calculated below because of its dependence on how many people are already\n",
    "    #   seated boarding order (which is strictly related to boarding time):\n",
    "    actual_shuffle_time=np.zeros((n_tot,1))\n",
    "    # - an array to store the walking time, that will also be calculated below since it's closely related to the previous grouping order\n",
    "    walk_time=np.zeros((n_tot,1))\n",
    "    # - an array to store the total time that each passenger would require to board singularly\n",
    "    total_time=np.zeros((n_tot,1))\n",
    "    # - an array to store the actual time that each boarding group requires\n",
    "    determining_time=np.zeros((len(groups),1))\n",
    "    # - a temporary variable (to be updated at the end of every operation) to store the lowermost row of the previous full-stop group \n",
    "    #   (which is needed to compute the walking time)\n",
    "    previous_stop=0\n",
    "    # within each full-stop group:\n",
    "    for l,g in enumerate(groups):\n",
    "        # within each group\n",
    "        # because of the \"boolean\" 0/1 structure of the matrixes that tract occupation, I get easily get the number of\n",
    "        # people that need to shuffle by summing over the people that are in the way (i.e. the people that have lower\n",
    "        # indexes than the new passenger)\n",
    "        # I examine each passenger\n",
    "        for i in g:\n",
    "            # I temporarily extract their coordinates (to improve the readability of the code)\n",
    "            temp_r=boarding_order[i,0]\n",
    "            temp_s=boarding_order[i,1]\n",
    "            # if the passenger is in middle (indexes 1 or 4) or window seat (indexes 0 or 5), I count how many already-seated\n",
    "            # people are in their way:\n",
    "            if temp_s<2: \n",
    "                n=(occupied[temp_r,temp_s:4]).sum()\n",
    "            elif random_seats[i,1]>3:\n",
    "                n=(occupied[temp_r,3:temp_s]).sum()\n",
    "            # if the passenger has an aisle seat, no shuffling takes place\n",
    "            else:\n",
    "                n=0\n",
    "            # one I know how many people shufle, I can sum the correct amount (n) of values (previously randomly extracted)\n",
    "            # that need to be taken into account\n",
    "            actual_shuffle_time[i]=(potential_shuffle_time[temp_r,0:(n)]).sum()\n",
    "            # I then update the occupation matrix:\n",
    "            occupied[temp_r,temp_s]+=1\n",
    "            # and the walking time\n",
    "            walk_time[i]=np.max([(temp_r-previous_stop),0])*k_time[i]\n",
    "            # I can finally calculate the total boarding time that each passenger would singularly require\n",
    "            total_time[i] = walk_time[i] + luggage_time[i] + actual_shuffle_time[i]\n",
    "        # thankfully, because of the full-stop groups structure, I don't need to sum every single boarding time:\n",
    "        # the time needed for each full-stop group to can be approximated with the maximum time spent by a passenger of said group.\n",
    "        # Such value is therefore saved as the determining time for the group\n",
    "        determining_time[l]=np.max(total_time[g])\n",
    "        # lastly, I update the temporary variable needed for the next iteration\n",
    "        previous_stop=np.min(boarding_order[g,0])\n",
    "    \n",
    "    # ultimately, I get the actual net boarding time for the entire cabin by adding up each determining time previously calculated\n",
    "    actual_time=determining_time.sum()\n",
    "    return actual_time #s"
   ]
  },
  {
   "cell_type": "markdown",
   "id": "5fb24f30-2820-4f15-9831-a8b83e5727ee",
   "metadata": {
    "tags": []
   },
   "source": [
    "## **The Random strategy**"
   ]
  },
  {
   "cell_type": "markdown",
   "id": "38015f2c-b900-4997-acae-90829cf32c5d",
   "metadata": {},
   "source": [
    "The random strategy prescribes that passengers line up at the gate counter and are admitted for boarding in the order they arrive. \\\n",
    "This method can also correctly reproduce other boarding strategies that don't involve jetway-less, but rather walking or busses, and that are commonly used in smaller airports."
   ]
  },
  {
   "cell_type": "code",
   "execution_count": 10,
   "id": "1a4769d0-dfda-4911-8dbe-8a0a885464c7",
   "metadata": {
    "tags": []
   },
   "outputs": [],
   "source": [
    "def get_random_seats():\n",
    "    # this function randomly shuffles (all at once) the possible combinations of seats to reproduce the Random boarding strategy\n",
    "    random_seats=get_seats()\n",
    "    np.random.shuffle(random_seats)\n",
    "    return random_seats"
   ]
  },
  {
   "cell_type": "code",
   "execution_count": 11,
   "id": "dc24c392-6ef5-41e2-8fac-549cebc2522b",
   "metadata": {
    "tags": []
   },
   "outputs": [
    {
     "name": "stdout",
     "output_type": "stream",
     "text": [
      "ex. random strategy time:  1941.8401057004735  seconds =  32.36400176167456  minutes.\n"
     ]
    }
   ],
   "source": [
    "# at every iteration\n",
    "for rep in range(n_reps):\n",
    "    # I get a fresh random configuration of seats\n",
    "    random_seats=get_random_seats()\n",
    "    # for which I calculate the net total boarding time\n",
    "    random_time=get_boarding_time(random_seats,get_full_stop_groups(random_seats))\n",
    "    # I show an example to give an idea of the scale:\n",
    "    if rep==0:\n",
    "        print('ex. random strategy time: ',random_time,' seconds = ',random_time/60,' minutes.')\n",
    "    storage[rep,0]=random_time"
   ]
  },
  {
   "cell_type": "markdown",
   "id": "61a813ab-09fe-4aa6-b0ef-6cd1b36a7392",
   "metadata": {
    "tags": []
   },
   "source": [
    "## **The back-to-front strategy**"
   ]
  },
  {
   "cell_type": "markdown",
   "id": "72b496b0-e2d1-41d7-87d6-f8cab8abbe5f",
   "metadata": {},
   "source": [
    "Aircraft rows are divided into zones (each zone grouping a certain number of rows). In this particular method, the last zone in the back is the first to be seated. Next comes the furthest yet unoccupied zone in the back, continuing like this until the first section in the front is occupied. \\\n",
    "The advantage of this method is that passengers who are boarding at the back and the front will not interfere with each other."
   ]
  },
  {
   "cell_type": "code",
   "execution_count": 12,
   "id": "3e4ade93-a573-49e0-8350-31411716930c",
   "metadata": {},
   "outputs": [],
   "source": [
    "def get_back_to_front_seats(bg=5):\n",
    "    # this function divides the passenger into a certain amount of boarding groups (bg) based on their row coordinate:\n",
    "    # once they're selected\n",
    "    btf_seats=get_seats()\n",
    "    # I compute the size of each boarding group\n",
    "    bs=int(n_tot/bg)\n",
    "    # and use a for-loop to temporarily consider one group at a time\n",
    "    for i in range(bg):\n",
    "        # once selected, I randomly shuffle them\n",
    "        np.random.shuffle(btf_seats[bs*i:(bs*(i+1))])\n",
    "    # lastly, the vector is flipped to get the back-to-front desired order of boarding\n",
    "    np.flip(btf_seats)\n",
    "    return btf_seats"
   ]
  },
  {
   "cell_type": "code",
   "execution_count": 13,
   "id": "8bf43b26-e588-44d0-af07-9ad59740213c",
   "metadata": {},
   "outputs": [
    {
     "name": "stdout",
     "output_type": "stream",
     "text": [
      "ex. back-to-front strategy time:  1437.204233920329  seconds =  23.95340389867215  minutes.\n"
     ]
    }
   ],
   "source": [
    "# at every iteration\n",
    "for rep in range(n_reps):\n",
    "    # I get a fresh random configuration of seats\n",
    "    btf_seats=get_back_to_front_seats()\n",
    "    # for which I calculate the net total boarding time\n",
    "    btf_time=get_boarding_time(btf_seats,get_full_stop_groups(btf_seats))\n",
    "    # I show an example to give an idea of the scale:\n",
    "    if rep==0:\n",
    "        print('ex. back-to-front strategy time: ',btf_time,' seconds = ',btf_time/60,' minutes.')\n",
    "    storage[rep,1]=btf_time"
   ]
  },
  {
   "cell_type": "markdown",
   "id": "3116bbed-8916-492e-a3c5-539e81802249",
   "metadata": {
    "tags": []
   },
   "source": [
    "## **The window-middle-aisle strategy**"
   ]
  },
  {
   "cell_type": "markdown",
   "id": "e0f33f81-5f4c-4589-bd6c-0f3cf5006194",
   "metadata": {},
   "source": [
    "The window-middle-aisle approach to boarding divides the passenger into three groups: window seats are occupied first, then middle seats are filled and passengers near the aisle go last.\n",
    "This method is equivalent to applying the random method three times on three subsamples, yet avoids any contribution to shuffling time."
   ]
  },
  {
   "cell_type": "code",
   "execution_count": 14,
   "id": "de5512f3-8620-456c-bc8f-45e3321386d7",
   "metadata": {},
   "outputs": [],
   "source": [
    "def get_wma_seats():\n",
    "    # this function divides and separately shuffles the passegers based on their window, middle or aisle seating:\n",
    "    # (0 and 5 are window seats, 1 and 4 are middle seats and 2 and 3 are aisle seats)\n",
    "    # once the seated are selected\n",
    "    wma_seats=get_seats()\n",
    "    # I first select people in window seats\n",
    "    a=wma_seats[np.logical_or(wma_seats[:,1]==0,wma_seats[:,1]==5)]\n",
    "    # and randomly shuffle them\n",
    "    np.random.shuffle(a)\n",
    "    # I then select people in middle seats\n",
    "    b=wma_seats[np.logical_or(wma_seats[:,1]==1,wma_seats[:,1]==4)]\n",
    "    # and randomly shuffle them too\n",
    "    np.random.shuffle(b)\n",
    "    # last come the aisle seat, which are selected\n",
    "    c=wma_seats[np.logical_or(wma_seats[:,1]==2,wma_seats[:,1]==3)]\n",
    "    # as well as, you guessed it, randomely shuffled\n",
    "    np.random.shuffle(c)\n",
    "    # finally, I concatenate the previously created variables to ensure the desire boarding order\n",
    "    wma_seats=np.concatenate((a,b,c))\n",
    "    return wma_seats"
   ]
  },
  {
   "cell_type": "code",
   "execution_count": 15,
   "id": "d7147e6f-ab09-44de-ba22-67292a06d4e1",
   "metadata": {},
   "outputs": [
    {
     "name": "stdout",
     "output_type": "stream",
     "text": [
      "ex. window-middle-aisle strategy time:  1456.1293982330158  seconds =  24.268823303883597  minutes.\n"
     ]
    }
   ],
   "source": [
    "# at every iteration\n",
    "for rep in range(n_reps):\n",
    "    # I get a fresh random configuration of seats\n",
    "    wma_seats=get_wma_seats()\n",
    "    # for which I calculate the net total boarding time\n",
    "    wma_time=get_boarding_time(wma_seats,get_full_stop_groups(wma_seats))\n",
    "    # I show an example to give an idea of the scale:\n",
    "    if rep==0:\n",
    "        print('ex. window-middle-aisle strategy time: ',wma_time,' seconds = ',wma_time/60,' minutes.')\n",
    "    storage[rep,2]=wma_time"
   ]
  },
  {
   "cell_type": "markdown",
   "id": "55c18b75-737a-4c3f-bc25-79107f82bd3f",
   "metadata": {
    "tags": []
   },
   "source": [
    "## **The Steffen (perfect) strategy**"
   ]
  },
  {
   "cell_type": "markdown",
   "id": "ee1576dd-ae8c-41d8-83e5-92d68b0065bb",
   "metadata": {},
   "source": [
    "The Steffen (perfect) strategy is, theoretically, the most efficient method that could be implemented and requires an exact order or boarding: back to front, on alternating rows, on alternating sides, from the windows in. In this way, full-stops are minimized and seat shuffling is prevented."
   ]
  },
  {
   "cell_type": "code",
   "execution_count": 16,
   "id": "ac715b15-112f-476d-a629-9407168b50f7",
   "metadata": {},
   "outputs": [],
   "source": [
    "def get_steffen_seats():\n",
    "    # this fuction lists the precise order of seats that is behid the Steffen boardin method \n",
    "    # (0 and 5 are window seats, 1 and 4 are middle seats and 2 and 3 are aisle seats)\n",
    "    # firstly, I list all the possible combinations of rows and seat within the row\n",
    "    r1=np.tile(np.arange(n_rows,0,-2)-1,2)\n",
    "    r2=np.tile(np.arange(n_rows-1,0,-2)-1,2)\n",
    "    r3=np.concatenate((r1,r2))\n",
    "    # I store said combinations in a 2-dimensional numpy array\n",
    "    steffen_seats=np.zeros((n_tot,2),dtype=int)\n",
    "    steffen_seats[:,0]=np.tile(r3,3)\n",
    "    steffen_seats[:,1]=np.repeat(np.array([0,5,0,5,1,4,1,4,2,3,2,3]),int(n_rows/2))\n",
    "    return steffen_seats"
   ]
  },
  {
   "cell_type": "code",
   "execution_count": 17,
   "id": "3923276b-c202-4fcc-87d0-4333e09d5474",
   "metadata": {},
   "outputs": [
    {
     "name": "stdout",
     "output_type": "stream",
     "text": [
      "ex. Steffen strategy time:  355.49485229274546  seconds =  5.924914204879091  minutes.\n"
     ]
    }
   ],
   "source": [
    "# at every iteration\n",
    "for rep in range(n_reps):\n",
    "    # I get the specific configuration of seats I want\n",
    "    steffen_seats=get_steffen_seats()\n",
    "    # for which I calculate the net total boarding time\n",
    "    steffen_time=get_boarding_time(steffen_seats,get_full_stop_groups(steffen_seats))\n",
    "    # I show an example to give an idea of the scale:\n",
    "    if rep==0:\n",
    "        print('ex. Steffen strategy time: ',steffen_time,' seconds = ',steffen_time/60,' minutes.')\n",
    "    storage[rep,3]=steffen_time"
   ]
  },
  {
   "cell_type": "markdown",
   "id": "5c1d985c-5e9e-4f6a-9c5b-ff60f777c31f",
   "metadata": {
    "tags": []
   },
   "source": [
    "## **Reverse-pyramid strategy**"
   ]
  },
  {
   "cell_type": "markdown",
   "id": "9a7623ed-85e0-44d6-afed-db363901aacd",
   "metadata": {},
   "source": [
    "The reverse-pyramid method aims to be the best compromise between the implementation of the Steffen (perfect) method and enforceability. Boarding groups are implemented to boarding from the outer back to the inner front of the cabin. \\\n",
    "This method is a combination of Back-to-Front and Window-to-Aisle, since window and middle passengers near the back of the plane board first, while those with aisle seats near the front are called last allowing for little to no seat-shuffling."
   ]
  },
  {
   "cell_type": "code",
   "execution_count": 18,
   "id": "97c9adcd-794d-406d-82e7-21972faef2b6",
   "metadata": {},
   "outputs": [],
   "source": [
    "def get_reverse_pyramid():\n",
    "    # this function isolates the groups of passengers predicted by the reverse-pyramind boarding method and randomly shuffles\n",
    "    # the people within them, focussing on one side of the plane: because boarding groups are intrinsic to this process, I act\n",
    "    # directly on them\n",
    "    # firstly, I initialise a list that will contain the indexes of the seats divided by group\n",
    "    groups=[0]*(2*n_rows)\n",
    "    # similarly, I initialise a vector where I will be saving the seats in the desired order\n",
    "    seats=np.array([0,0])\n",
    "    # focussing on the first side\n",
    "    # for each group\n",
    "    for a,d in enumerate(np.arange(n_rows-1,-1,-1)):\n",
    "        # I save a temporary variable\n",
    "        temp=[]\n",
    "        # and select the combination of seats, taking into account the adjustments needed\n",
    "        # - in the last row of seats (in the back)\n",
    "        if d==(n_rows-1):\n",
    "            temp=np.array([[d,5],[d,4],[d-1,5]])\n",
    "        # - in the first row (in the front)\n",
    "        elif d==0:\n",
    "            temp=np.array([[d,3],[d,4],[d+1,3]])\n",
    "        # - in general\n",
    "        else:\n",
    "            temp=np.array([[d-1,5],[d,4],[d+1,3]])\n",
    "        # now that I have the seats, I just need to shuffle them to mimic real behaviour\n",
    "        np.random.shuffle(temp)\n",
    "        # I then save the indexes of the seats\n",
    "        groups[a]=np.array([0,1,2])+3*a\n",
    "        # and the seats coordinates:\n",
    "        for i in range(3):\n",
    "            t=temp[i,:]\n",
    "            seats=np.vstack((seats,t))\n",
    "    # now similarly, for the other side:\n",
    "    for a,d in enumerate(np.arange(n_rows-1,-1,-1)):\n",
    "        temp=[]\n",
    "        if d==(n_rows-1):\n",
    "            temp=np.array([[d,0],[d,1],[d-1,0]])\n",
    "        elif d==0:\n",
    "            temp=np.array([[d,2],[d,1],[d+1,2]])\n",
    "        else:\n",
    "            temp=np.array([[d-1,2],[d,1],[d+1,0]])\n",
    "        np.random.shuffle(temp)\n",
    "        groups[a+n_rows]=np.array([0,1,2])+3*a+n_rows*3\n",
    "        for i in range(3):\n",
    "            t=temp[i,:]\n",
    "            seats=np.vstack((seats,t))\n",
    "    # lastly, I delete the extra element that came from my particular choice of initialization (due to me wanting to use\n",
    "    # np.vstack with 2-dimensional arrays) \n",
    "    seats=seats[1:]\n",
    "    return groups, seats"
   ]
  },
  {
   "cell_type": "code",
   "execution_count": 19,
   "id": "f5b826c7-0df1-4b8b-b754-e207d70f4419",
   "metadata": {},
   "outputs": [
    {
     "name": "stdout",
     "output_type": "stream",
     "text": [
      "ex. Reverse-pyramid strategy time:  1044.8381002328683  seconds =  17.413968337214474  minutes.\n"
     ]
    }
   ],
   "source": [
    "# at every iteration\n",
    "for rep in range(n_reps):\n",
    "    # I get the specific configuration of seats I want\n",
    "    groups,rp_seats=get_reverse_pyramid()\n",
    "    # for which I calculate the net total boarding time\n",
    "    rp_time=get_boarding_time(rp_seats,groups)\n",
    "    # I show an example to give an idea of the scale:\n",
    "    if rep==0:\n",
    "        print('ex. Reverse-pyramid strategy time: ',rp_time,' seconds = ',rp_time/60,' minutes.')\n",
    "    storage[rep,4]=rp_time"
   ]
  },
  {
   "cell_type": "markdown",
   "id": "d681f1d4-632b-4379-911c-34aaf4425e0a",
   "metadata": {
    "tags": []
   },
   "source": [
    "# **Results**"
   ]
  },
  {
   "cell_type": "markdown",
   "id": "09f31c74-f9b9-4e74-b856-b66fa7482ee5",
   "metadata": {},
   "source": [
    "First of all, I’m interested in getting an overall idea of the data that was just collected:"
   ]
  },
  {
   "cell_type": "code",
   "execution_count": 20,
   "id": "5616ae53-5e11-44b9-9bee-92ee74552dd6",
   "metadata": {},
   "outputs": [],
   "source": [
    "n_bins=int(np.sqrt(n_reps))\n",
    "colors=['deeppink','orange','lawngreen','skyblue','mediumpurple']\n",
    "labels=['random','back-to-front','window-middle-aisle','Steffen','reverse pyramid']"
   ]
  },
  {
   "cell_type": "code",
   "execution_count": 21,
   "id": "8fbd1441-95cf-442d-9fdb-2943e8ec9818",
   "metadata": {},
   "outputs": [
    {
     "data": {
      "image/png": "[encoded data removed]",
      "text/plain": [
       "<Figure size 1440x360 with 1 Axes>"
      ]
     },
     "metadata": {
      "needs_background": "light"
     },
     "output_type": "display_data"
    }
   ],
   "source": [
    "fig1,ax1=plt.subplots(1,1,figsize=(20,5))\n",
    "# I plot every frequency histogram in the same figure to compare the different scales\n",
    "for method in range(n_methods):\n",
    "    ax1.hist(storage[:,method]/60,bins=n_bins,histtype='step',density=True,label=labels[method],color=colors[method])\n",
    "ax1.legend(fontsize=10,loc='upper center',ncol=3)\n",
    "ax1.set_title(labels[method]+' method',fontsize=15)\n",
    "ax1.set_xlabel('minutes')\n",
    "ax1.set_ylabel('frequency')\n",
    "plt.show()"
   ]
  },
  {
   "cell_type": "markdown",
   "id": "e652039f-8330-4bec-a6cc-c295a8fc91bd",
   "metadata": {},
   "source": [
    "Let's now analyze each peak in detail: for each one, I plot the frequency histogram and fit it based on a Gaussian model to get a mean value and a standard deviation. These will allow for a quantitative analysis"
   ]
  },
  {
   "cell_type": "code",
   "execution_count": 22,
   "id": "d8aa4f16-6565-4a00-a0c7-50d692f255d8",
   "metadata": {},
   "outputs": [
    {
     "name": "stdout",
     "output_type": "stream",
     "text": [
      "the mean value and standard deviation of the random method are 31.08 and 1.18 minutes.\n",
      "the mean value and standard deviation of the back-to-front method are 24.37 and 0.90 minutes.\n",
      "the mean value and standard deviation of the window-middle-aisle method are 23.23 and 0.73 minutes.\n",
      "the mean value and standard deviation of the Steffen method are 5.63 and 0.11 minutes.\n",
      "the mean value and standard deviation of the reverse pyramid method are 17.32 and 0.32 minutes.\n"
     ]
    },
    {
     "data": {
      "image/png": "[encoded data removed]",
      "text/plain": [
       "<Figure size 1440x360 with 5 Axes>"
      ]
     },
     "metadata": {
      "needs_background": "light"
     },
     "output_type": "display_data"
    }
   ],
   "source": [
    "def my_gaussian(x,mean,sigma):\n",
    "    return np.exp(-0.5*(x-mean)**2/sigma**2)/np.sqrt(2*np.pi)/sigma\n",
    "starting_points=[ [31,1], [25,1], [24,1.5], [5.6,0.2],[17.5,0.5] ]\n",
    "details=np.zeros((2,n_methods))\n",
    "\n",
    "fig2,ax2=plt.subplots(1,n_methods,figsize=(20,5))\n",
    "# for every method\n",
    "for method in range(n_methods):\n",
    "    # I show the frequency histogram\n",
    "    y,bins,_=ax2[method].hist(storage[:,method]/60,bins=n_bins,density=True,label=labels[method],color=colors[method])\n",
    "    # I then use the outputs from the histogram to get the quantites for the fit\n",
    "    x=(bins[1:]+bins[:-1])/2\n",
    "    x_fit=np.linspace(np.min(bins),np.max(bins),300)\n",
    "    parameters, covariance = curve_fit(my_gaussian, x, y,p0=starting_points[method])\n",
    "    print('the mean value and standard deviation of the {:} method are {:.2f} and {:.2f} minutes.'.format(labels[method],\n",
    "                                                                                                              parameters[0],parameters[1]))\n",
    "    # I then show said fit\n",
    "    ax2[method].plot(x_fit, my_gaussian(x_fit, parameters[0], parameters[1]),color='k',label = \"optimised Gaussian fit\" )\n",
    "    # save the parameters just estimated\n",
    "    details[:,method]=parameters\n",
    "    ax2[method].legend(fontsize=8,loc='lower center')\n",
    "    ax2[method].set_title(labels[method]+' method',fontsize=12)\n",
    "    ax2[method].set_xlabel('minutes')\n",
    "    if method==0:\n",
    "        ax2[method].set_ylabel('frequency')"
   ]
  },
  {
   "cell_type": "markdown",
   "id": "8e364bd8-63a9-4dfb-a989-a3cca0d933fd",
   "metadata": {
    "tags": []
   },
   "source": [
    "# **Discussion**"
   ]
  },
  {
   "cell_type": "markdown",
   "id": "2864f3e8-0035-40ba-b603-a7a96413355d",
   "metadata": {},
   "source": [
    "In the following section I'm going to go over the results that were just presented to contextualize them:\n",
    "- first of all, the **random boarding method** seems to be the worst performing one in terms of net total time boarding time. Its wide use helps contextualize the other key element of this process, feasibility, which is maximized in the random strategy. This approach intrinsically contemplates the presence of random passengers to board earlier that choose to pay more and of families that will naturally want to board together.\n",
    "- the **back-to-front strategy** and the **window-middle aisle method** tie at third place in terms of total time. Time-efficiency is improved (compared to the random boarding method) thanks to some form of regulation: both strategies are reasonably easy to implement but those same regulations might interfere with premium early boarding or keeping families together. So, despite being a good compromise, these methods might score low in satisfaction.\n",
    "- the **reverse-pyramid method** takes second place in terms of the net total boarding time. This method naturally leads to a division into proper boarding groups that could be assigned directly then the seat, so this method is still relatively easy to implement. Despite that, the larger number of boarding groups and the little flexibility provided by this system could lead to low satisfaction rates.\n",
    "- the **Steffen strategy** is the most time efficient, yet the most rigid and difficult to enforce. For this reason, it's difficult to predict the degree of customer satisfaction that could come out of this compromise. The little to no feasibility is likely to prevent airlines from assuming it as a standard procedure.\n",
    "\n",
    "The most realistic yet dissatisfying conclusion is that airlines will be more likely to use the lengthier yet easy-to-implement methods, such as the back-to-front or the window-middle-aisle strategies (but also the random one), since more elaborate alternatives would require further supervision from the flight crew. \n",
    "\n",
    "Lastly, a few words need to be said for intellectual honesty: of course, the results I just discussed and the conclusions that were just made were the outcomes of a simulation. Every simulation is strictly dependent on the abstraction and modelization of the problem, so different abstractions could lead to different results.\n",
    "To avoid this layer of complications, real-life data could be analyzed. Sadly, up until this moment, interest in the data collection hasn't been high and the little data available is inconsistent between the different strategies analyzed (since each airline usually has one standard procedure).\n",
    "Hopefully, in the future, larger and more consistent datasets regarding plane boarding will be available, to help establish both the actual best boarding strategy and the best way to simulate this phenomenon."
   ]
  },
  {
   "cell_type": "markdown",
   "id": "71309d66-2241-4fa3-bfa7-fab49c70c282",
   "metadata": {},
   "source": [
    "# **References**\n",
    "1. overall: What's the Best Plane Boarding Plan? | MythBusters | YouTube (https://www.youtube.com/watch?v=ss1S3-Kv6R8)\n",
    "2. overall: The Better Boarding Method Airlines Won't Use | CGP Grey | YouTube (https://www.youtube.com/watch?v=oAHbLRjF0vo&t=89s)\n",
    "3. on Narrow-body AirCrafts: https://en.wikipedia.org/wiki/Narrow-body_aircraft\n",
    "4. on Average Speed with Luggage: https://thewanderingwanderluster.com/common-faqs-for-the-camino-de-santiago/\n",
    "5. on Steffen strategy: Experimental test of airplane boarding methods (https://arxiv.org/abs/1108.5211)\n",
    "6. on Steffen strategy: https://en.wikipedia.org/wiki/Steffen_Boarding_Method"
   ]
  }
 ],
 "metadata": {
  "kernelspec": {
   "display_name": "Python 3 (ipykernel)",
   "language": "python",
   "name": "python3"
  },
  "language_info": {
   "codemirror_mode": {
    "name": "ipython",
    "version": 3
   },
   "file_extension": ".py",
   "mimetype": "text/x-python",
   "name": "python",
   "nbconvert_exporter": "python",
   "pygments_lexer": "ipython3",
   "version": "3.10.9"
  }
 },
 "nbformat": 4,
 "nbformat_minor": 5
}
